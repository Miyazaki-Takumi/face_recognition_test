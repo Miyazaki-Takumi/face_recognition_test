{
 "cells": [
  {
   "cell_type": "markdown",
   "metadata": {},
   "source": [
    "# histry.db コマンドテスト"
   ]
  },
  {
   "cell_type": "code",
   "execution_count": 1,
   "metadata": {},
   "outputs": [],
   "source": [
    "import sqlite3\n",
    "\n",
    "dbname = 'history.db'\n",
    "conn = sqlite3.connect(dbname)"
   ]
  },
  {
   "cell_type": "code",
   "execution_count": 24,
   "metadata": {},
   "outputs": [
    {
     "name": "stdout",
     "output_type": "stream",
     "text": [
      "2024-02-06\n",
      "<class 'str'>\n"
     ]
    }
   ],
   "source": [
    "# テーブルの作成\n",
    "conn = sqlite3.connect(dbname)\n",
    "cur = conn.cursor()\n",
    "\n",
    "# 日付\n",
    "import datetime\n",
    "d_today = str(datetime.date.today())\n",
    "print(d_today)\n",
    "print(type(str(d_today)))\n",
    "cur.execute(f\"CREATE TABLE '{d_today}' (min INTEGER PRIMARY KEY, user1 TEXT, user3 TEXT, user4 TEXT)\")\n",
    "\n",
    "conn.commit()\n",
    "conn.close()"
   ]
  },
  {
   "cell_type": "code",
   "execution_count": 50,
   "metadata": {},
   "outputs": [
    {
     "name": "stdout",
     "output_type": "stream",
     "text": [
      "689\n"
     ]
    },
    {
     "ename": "OperationalError",
     "evalue": "3 values for 1 columns",
     "output_type": "error",
     "traceback": [
      "\u001b[1;31m---------------------------------------------------------------------------\u001b[0m",
      "\u001b[1;31mOperationalError\u001b[0m                          Traceback (most recent call last)",
      "\u001b[1;32m~\\AppData\\Local\\Temp\\ipykernel_29524\\1410467817.py\u001b[0m in \u001b[0;36m<module>\u001b[1;34m\u001b[0m\n\u001b[0;32m     12\u001b[0m \u001b[0mconn\u001b[0m \u001b[1;33m=\u001b[0m \u001b[0msqlite3\u001b[0m\u001b[1;33m.\u001b[0m\u001b[0mconnect\u001b[0m\u001b[1;33m(\u001b[0m\u001b[0mdbname\u001b[0m\u001b[1;33m)\u001b[0m\u001b[1;33m\u001b[0m\u001b[1;33m\u001b[0m\u001b[0m\n\u001b[0;32m     13\u001b[0m \u001b[0mcur\u001b[0m \u001b[1;33m=\u001b[0m \u001b[0mconn\u001b[0m\u001b[1;33m.\u001b[0m\u001b[0mcursor\u001b[0m\u001b[1;33m(\u001b[0m\u001b[1;33m)\u001b[0m\u001b[1;33m\u001b[0m\u001b[1;33m\u001b[0m\u001b[0m\n\u001b[1;32m---> 14\u001b[1;33m \u001b[0mcur\u001b[0m\u001b[1;33m.\u001b[0m\u001b[0mexecute\u001b[0m\u001b[1;33m(\u001b[0m\u001b[1;34mf\"INSERT INTO '{d_today}'(min) values({min}, {False}, {False});\"\u001b[0m\u001b[1;33m)\u001b[0m\u001b[1;33m\u001b[0m\u001b[1;33m\u001b[0m\u001b[0m\n\u001b[0m\u001b[0;32m     15\u001b[0m \u001b[0mconn\u001b[0m\u001b[1;33m.\u001b[0m\u001b[0mcommit\u001b[0m\u001b[1;33m(\u001b[0m\u001b[1;33m)\u001b[0m\u001b[1;33m\u001b[0m\u001b[1;33m\u001b[0m\u001b[0m\n\u001b[0;32m     16\u001b[0m \u001b[0mconn\u001b[0m\u001b[1;33m.\u001b[0m\u001b[0mclose\u001b[0m\u001b[1;33m(\u001b[0m\u001b[1;33m)\u001b[0m\u001b[1;33m\u001b[0m\u001b[1;33m\u001b[0m\u001b[0m\n",
      "\u001b[1;31mOperationalError\u001b[0m: 3 values for 1 columns"
     ]
    }
   ],
   "source": [
    "# データ収納・変更\n",
    "\n",
    "import datetime\n",
    "def min_day():\n",
    "    date = datetime.datetime.now()\n",
    "    min = int(date.hour)*60 + date.minute\n",
    "    print(min)\n",
    "    return min\n",
    "\n",
    "min = min_day()\n",
    "\n",
    "conn = sqlite3.connect(dbname)\n",
    "cur = conn.cursor()\n",
    "cur.execute(f\"INSERT INTO '{d_today}'(min) values({min}, {False}, {False});\")\n",
    "conn.commit()\n",
    "conn.close()"
   ]
  },
  {
   "cell_type": "code",
   "execution_count": 13,
   "metadata": {},
   "outputs": [],
   "source": [
    "# テーブルの削除\n",
    "\n",
    "import sqlite3\n",
    "\n",
    "dbname = 'history.db'\n",
    "conn = sqlite3.connect(dbname)\n",
    "\n",
    "cur = conn.cursor()\n",
    "\n",
    "cur.execute(f\"DROP TABLE '{str(d_today)}'\")\n",
    "\n",
    "conn.commit()\n",
    "conn.close()"
   ]
  },
  {
   "cell_type": "code",
   "execution_count": 14,
   "metadata": {},
   "outputs": [],
   "source": [
    "# テーブル名が存在しなければ作成\n",
    "\n",
    "import sqlite3\n",
    "\n",
    "# 日付\n",
    "import datetime\n",
    "d_today = str(datetime.date.today())\n",
    "\n",
    "dbname = 'history.db'\n",
    "conn = sqlite3.connect(dbname)\n",
    "cur = conn.cursor()\n",
    "cur.execute(f\"CREATE TABLE IF NOT EXISTS '{d_today}'(min INTEGER PRIMARY KEY);\")\n",
    "conn.commit()\n",
    "conn.close()"
   ]
  },
  {
   "cell_type": "code",
   "execution_count": 17,
   "metadata": {},
   "outputs": [
    {
     "ename": "OperationalError",
     "evalue": "duplicate column name: user1",
     "output_type": "error",
     "traceback": [
      "\u001b[1;31m---------------------------------------------------------------------------\u001b[0m",
      "\u001b[1;31mOperationalError\u001b[0m                          Traceback (most recent call last)",
      "\u001b[1;32m~\\AppData\\Local\\Temp\\ipykernel_22084\\3861616765.py\u001b[0m in \u001b[0;36m<module>\u001b[1;34m\u001b[0m\n\u001b[0;32m     10\u001b[0m \u001b[0mconn\u001b[0m \u001b[1;33m=\u001b[0m \u001b[0msqlite3\u001b[0m\u001b[1;33m.\u001b[0m\u001b[0mconnect\u001b[0m\u001b[1;33m(\u001b[0m\u001b[0mdbname\u001b[0m\u001b[1;33m)\u001b[0m\u001b[1;33m\u001b[0m\u001b[1;33m\u001b[0m\u001b[0m\n\u001b[0;32m     11\u001b[0m \u001b[0mcur\u001b[0m \u001b[1;33m=\u001b[0m \u001b[0mconn\u001b[0m\u001b[1;33m.\u001b[0m\u001b[0mcursor\u001b[0m\u001b[1;33m(\u001b[0m\u001b[1;33m)\u001b[0m\u001b[1;33m\u001b[0m\u001b[1;33m\u001b[0m\u001b[0m\n\u001b[1;32m---> 12\u001b[1;33m \u001b[0mcur\u001b[0m\u001b[1;33m.\u001b[0m\u001b[0mexecute\u001b[0m\u001b[1;33m(\u001b[0m\u001b[1;34mf\"ALTER TABLE '{d_today}' ADD COLUMN user1 TEXT;\"\u001b[0m\u001b[1;33m)\u001b[0m\u001b[1;33m\u001b[0m\u001b[1;33m\u001b[0m\u001b[0m\n\u001b[0m\u001b[0;32m     13\u001b[0m \u001b[0mconn\u001b[0m\u001b[1;33m.\u001b[0m\u001b[0mcommit\u001b[0m\u001b[1;33m(\u001b[0m\u001b[1;33m)\u001b[0m\u001b[1;33m\u001b[0m\u001b[1;33m\u001b[0m\u001b[0m\n\u001b[0;32m     14\u001b[0m \u001b[0mconn\u001b[0m\u001b[1;33m.\u001b[0m\u001b[0mclose\u001b[0m\u001b[1;33m(\u001b[0m\u001b[1;33m)\u001b[0m\u001b[1;33m\u001b[0m\u001b[1;33m\u001b[0m\u001b[0m\n",
      "\u001b[1;31mOperationalError\u001b[0m: duplicate column name: user1"
     ]
    }
   ],
   "source": [
    "# テーブルにカラムが存在しなければ追加\n",
    "\n",
    "import sqlite3\n",
    "\n",
    "# 日付\n",
    "import datetime\n",
    "d_today = str(datetime.date.today())\n",
    "\n",
    "dbname = 'history.db'\n",
    "conn = sqlite3.connect(dbname)\n",
    "cur = conn.cursor()\n",
    "cur.execute(f\"ALTER TABLE '{d_today}' ADD COLUMN user1 TEXT;\")\n",
    "conn.commit()\n",
    "conn.close()\n",
    "\n",
    "\n"
   ]
  },
  {
   "cell_type": "code",
   "execution_count": null,
   "metadata": {},
   "outputs": [],
   "source": [
    "#TODO カラムが存在しなければ追加する関数をchatGPTを参考に書く。\n",
    "\n",
    "\n",
    "import sqlite3\n",
    "\n",
    "# 日付\n",
    "import datetime\n",
    "\n",
    "d_today = str(datetime.date.today())\n",
    "\n",
    "def add_column(table_name,column_name,column_type):\n",
    "    dbname = 'history.db'\n",
    "    conn = sqlite3.connect(dbname)\n",
    "    cur = conn.cursor()\n",
    "\n",
    "    cur.execute(f\"PRAGMA table_info('{table_name}')\")\n",
    "    columns = [column[1] for column in cur.fetchall()]\n",
    "\n",
    "    if column_name not in columns:\n",
    "        cur.execute(f\"ALTER TABLE tablename ADD COLUMN {column_name} {column_type}\")\n",
    "        \n",
    "    conn.commit()\n",
    "    conn.close()"
   ]
  },
  {
   "cell_type": "code",
   "execution_count": null,
   "metadata": {},
   "outputs": [],
   "source": [
    "#TODO カラムに特定の値が存在しなければ行を追加する関数を考える\n",
    "\n",
    "# 分ごとに値を更新して最後にDBに入力する\n",
    "\n",
    "\n"
   ]
  },
  {
   "cell_type": "code",
   "execution_count": null,
   "metadata": {},
   "outputs": [],
   "source": [
    "def sql_updater(data):\n",
    "    import sqlite3\n",
    "    import datetime\n",
    "    import os\n",
    "    \"\"\"\n",
    "    input face_names\n",
    "    \"\"\"\n",
    "    date = datetime.datetime.now()\n",
    "    d_today = str(datetime.date.today())\n",
    "    min = int(date.hour)*60 + date.minute\n",
    "    data = [(\"user1\",True),(\"user2\",True)]\n",
    "\n",
    "\n",
    "    dbname = 'history.db'\n",
    "    conn = sqlite3.connect(dbname)\n",
    "    cur = conn.cursor()\n",
    "\n",
    "    # テーブルが存在しなければ作成\n",
    "    cur.execute(f\"CREATE TABLE IF NOT EXISTS '{d_today}'(min INTEGER PRIMARY KEY);\")\n",
    "    conn.commit()\n",
    "\n",
    "    # カラムが存在しなければ作成\n",
    "    cur.execute(f\"PRAGMA table_info('{d_today}')\")\n",
    "    columns = [column[1] for column in cur.fetchall()]\n",
    "    for user_name, bol in data:\n",
    "        if user_name not in columns:\n",
    "            cur.execute(f\"ALTER TABLE tablename ADD COLUMN {user_name} TEXT DEFAULT False\")\n",
    "    conn.commit()\n",
    "\n",
    "    # minが存在しなければ作成\n",
    "    cur.execute(f\"INSERT OR REPLACE INTO '{d_today}' (min) VALUES (?)\", (min))\n",
    "\n",
    "    # 対称の時間の行の値を更新する\n",
    "    for user_name, bol in data:\n",
    "        cur.execute(f\"UPDATE '{d_today}' SET user_name = ? WHERE min = {min}\", (bol))\n",
    "\n",
    "\n",
    "    conn.close()\n",
    "\n",
    "\n",
    "\n",
    "data = [(\"user1\",True)]\n",
    "sql_updater(data)"
   ]
  }
 ],
 "metadata": {
  "kernelspec": {
   "display_name": "Python 3",
   "language": "python",
   "name": "python3"
  },
  "language_info": {
   "codemirror_mode": {
    "name": "ipython",
    "version": 3
   },
   "file_extension": ".py",
   "mimetype": "text/x-python",
   "name": "python",
   "nbconvert_exporter": "python",
   "pygments_lexer": "ipython3",
   "version": "3.7.4"
  }
 },
 "nbformat": 4,
 "nbformat_minor": 2
}
